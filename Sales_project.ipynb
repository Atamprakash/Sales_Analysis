{
 "cells": [
  {
   "cell_type": "markdown",
   "id": "ab042c29-8f95-483a-8482-c162de593d82",
   "metadata": {},
   "source": [
    "# Data Cleaning"
   ]
  },
  {
   "cell_type": "code",
   "execution_count": null,
   "id": "46df7f6a-6f50-4ec1-83dd-1351a5c85c4d",
   "metadata": {},
   "outputs": [],
   "source": [
    "# import python libraries\n",
    "\n",
    "import numpy as np \n",
    "import pandas as pd \n",
    "import matplotlib.pyplot as plt # visualizing data\n",
    "%matplotlib inline\n",
    "import seaborn as sns"
   ]
  },
  {
   "cell_type": "code",
   "execution_count": null,
   "id": "7f85d8ca-662d-4588-bda7-9455d157682d",
   "metadata": {},
   "outputs": [],
   "source": [
    "# import csv file\n",
    "df = pd.read_csv('Diwali Sales Data.csv', encoding= 'unicode_escape')"
   ]
  },
  {
   "cell_type": "markdown",
   "id": "2de6782a-16c5-494c-9f6b-ec8cd235ce4a",
   "metadata": {},
   "source": [
    "#### Rows And Columns"
   ]
  },
  {
   "cell_type": "code",
   "execution_count": null,
   "id": "f8d3ba78-33d5-456e-a97c-05889817d32e",
   "metadata": {
    "scrolled": true
   },
   "outputs": [],
   "source": [
    "df.shape #Rows and Columns "
   ]
  },
  {
   "cell_type": "markdown",
   "id": "7d475a03-1ef7-4b5c-8dd9-5335bfc20c57",
   "metadata": {},
   "source": [
    "## Dataset"
   ]
  },
  {
   "cell_type": "code",
   "execution_count": null,
   "id": "e9f0d532-31b3-48d1-8da9-75df6596dc9a",
   "metadata": {},
   "outputs": [],
   "source": [
    "df.head() #Top 5 entrys of Dataset"
   ]
  },
  {
   "cell_type": "markdown",
   "id": "c9518d53-18d6-46a0-8c92-c320b599a751",
   "metadata": {},
   "source": [
    "### Information About Dataset"
   ]
  },
  {
   "cell_type": "code",
   "execution_count": null,
   "id": "c8d520ec-f5a3-4c83-b966-3d54da9dd544",
   "metadata": {},
   "outputs": [],
   "source": [
    "df.info()"
   ]
  },
  {
   "cell_type": "code",
   "execution_count": null,
   "id": "ed8ce574-f01b-4a1b-8b64-3e2fb1103f7d",
   "metadata": {},
   "outputs": [],
   "source": [
    "#drop unrelated/blank columns\n",
    "df.drop(['Status', 'unnamed1'], axis=1, inplace=True)"
   ]
  },
  {
   "cell_type": "code",
   "execution_count": null,
   "id": "764e8d17-2780-4f40-8dcb-da7eee66c5f4",
   "metadata": {},
   "outputs": [],
   "source": [
    "print(df.isnull())          #Null value"
   ]
  },
  {
   "cell_type": "markdown",
   "id": "742d9771-8bad-43f8-bba0-f5484631b05b",
   "metadata": {},
   "source": [
    "### Null Values Sum"
   ]
  },
  {
   "cell_type": "code",
   "execution_count": null,
   "id": "88c96215-8935-4b04-84aa-9b37a51ebfbc",
   "metadata": {},
   "outputs": [],
   "source": [
    "#check for null values\n",
    "pd.isnull(df).sum()"
   ]
  },
  {
   "cell_type": "code",
   "execution_count": null,
   "id": "b8684869-195d-40c8-9ab0-0618b518f6e3",
   "metadata": {},
   "outputs": [],
   "source": [
    "# drop null values\n",
    "df.dropna(inplace=True)"
   ]
  },
  {
   "cell_type": "markdown",
   "id": "c5ddc447-9979-42aa-81e2-66a1f1e00a95",
   "metadata": {},
   "source": [
    "### DataType Changing"
   ]
  },
  {
   "cell_type": "code",
   "execution_count": null,
   "id": "87c56fa7-46fa-4ca9-9aca-3c527300b7f7",
   "metadata": {},
   "outputs": [],
   "source": [
    "# change data type\n",
    "df['Amount'] = df['Amount'].astype('int')"
   ]
  },
  {
   "cell_type": "code",
   "execution_count": null,
   "id": "47ceb586-af64-4e69-8cff-733d5ff7a8d2",
   "metadata": {},
   "outputs": [],
   "source": [
    "df['Amount'].dtypes"
   ]
  },
  {
   "cell_type": "code",
   "execution_count": null,
   "id": "d90be320-d766-4f3a-a59d-ca39fbf57632",
   "metadata": {},
   "outputs": [],
   "source": [
    "df.columns"
   ]
  },
  {
   "cell_type": "code",
   "execution_count": null,
   "id": "059bb1e9-0c18-47ba-bd61-ca4826ea8851",
   "metadata": {},
   "outputs": [],
   "source": [
    "#rename column\n",
    "df.rename(columns= {'Marital_Status':'Shaadi'})"
   ]
  },
  {
   "cell_type": "code",
   "execution_count": null,
   "id": "36dc90cc-81c8-4868-a481-f42014653337",
   "metadata": {},
   "outputs": [],
   "source": [
    "# describe() method returns description of the data in the DataFrame (i.e. count, mean, std, etc)\n",
    "df.describe()"
   ]
  },
  {
   "cell_type": "code",
   "execution_count": null,
   "id": "b24ed0c8-8c3b-4358-9a1b-de571013a742",
   "metadata": {},
   "outputs": [],
   "source": [
    "# use describe() for specific columns\n",
    "df[['Age', 'Orders', 'Amount']].describe()"
   ]
  },
  {
   "cell_type": "markdown",
   "id": "e4279ef5-e0c2-4b5e-abc8-274d58cab0ed",
   "metadata": {},
   "source": [
    "# Exploratory Data Analysis"
   ]
  },
  {
   "cell_type": "markdown",
   "id": "db913c86-70d6-4ee6-928f-16c7bb86c82d",
   "metadata": {},
   "source": [
    "### Gender"
   ]
  },
  {
   "cell_type": "code",
   "execution_count": null,
   "id": "3e05be8b-ab0c-4651-8fb1-01105f142bf0",
   "metadata": {},
   "outputs": [],
   "source": [
    "# plotting a bar chart for Gender and it's count\n",
    "\n",
    "ax = sns.countplot(x = 'Gender',data = df)\n",
    "\n",
    "for bars in ax.containers:\n",
    "    ax.bar_label(bars)"
   ]
  },
  {
   "cell_type": "code",
   "execution_count": null,
   "id": "1fa6ce69-f76e-4009-915f-7eddeea29017",
   "metadata": {},
   "outputs": [],
   "source": [
    "# plotting a bar chart for gender vs total amount\n",
    "\n",
    "sales_gen = df.groupby(['Gender'], as_index=False)['Amount'].sum().sort_values(by='Amount', ascending=False)\n",
    "\n",
    "sns.barplot(x = 'Gender',y= 'Amount' ,data = sales_gen)"
   ]
  },
  {
   "cell_type": "markdown",
   "id": "fcd8642c-8393-432e-832b-04295f97ae70",
   "metadata": {},
   "source": [
    "*From above graphs we can see that most of the buyers are females and even the purchasing power of females are greater than men*"
   ]
  },
  {
   "cell_type": "markdown",
   "id": "5b00d7fa-34be-4242-a4b2-d06618a145c6",
   "metadata": {},
   "source": [
    "### Age"
   ]
  },
  {
   "cell_type": "code",
   "execution_count": null,
   "id": "3df472de-3b88-4215-aa79-0911eb3c8b10",
   "metadata": {},
   "outputs": [],
   "source": [
    "ax = sns.countplot(data = df, x = 'Age Group', hue = 'Gender')\n",
    "\n",
    "sns.set(rc={'figure.figsize':(9,5)})\n",
    "for bars in ax.containers:\n",
    "    ax.bar_label(bars)"
   ]
  },
  {
   "cell_type": "code",
   "execution_count": null,
   "id": "6248d4b6-05ff-4c1a-b0ea-4587b6fca6de",
   "metadata": {},
   "outputs": [],
   "source": [
    "# Total Amount vs Age Group\n",
    "sales_age = df.groupby(['Age Group'], as_index=False)['Amount'].sum().sort_values(by='Amount', ascending=False)\n",
    "\n",
    "sns.barplot(x = 'Age Group',y= 'Amount' ,data = sales_age)"
   ]
  },
  {
   "cell_type": "markdown",
   "id": "2d7cb490-c2af-4f39-bc9c-88fc5b36fe95",
   "metadata": {},
   "source": [
    "*From above graphs we can see that most of the buyers are of age group between 26-35 yrs female*"
   ]
  },
  {
   "cell_type": "markdown",
   "id": "85b8e292-f151-463f-a48c-6f6f17f02c74",
   "metadata": {},
   "source": [
    "### State"
   ]
  },
  {
   "cell_type": "code",
   "execution_count": null,
   "id": "c92eb8b0-01e8-49be-89aa-618237da637b",
   "metadata": {},
   "outputs": [],
   "source": [
    "# Group data by state and calculate total orders\n",
    "sales_state = df.groupby(['State'], as_index=False)['Orders'].sum().sort_values(by='Orders', ascending=False).head(10)\n",
    "\n",
    "# Set figure size and style\n",
    "sns.set(rc={'figure.figsize': (16, 5)})\n",
    "sns.set_style(\"whitegrid\")\n",
    "\n",
    "# Custom color palette\n",
    "custom_colors = sns.color_palette('coolwarm', len(sales_state))\n",
    "\n",
    "# Barplot with correct syntax (pass 'hue' explicitly to avoid warning)\n",
    "sns.barplot(data=sales_state, x='State', y='Orders', hue='State', palette=custom_colors, legend=False)\n",
    "\n",
    "# Add Titles and Labels\n",
    "plt.title('Total Number of Orders by State', fontsize=16, fontweight='bold', color='darkblue')\n",
    "plt.xlabel('State', fontsize=14, fontweight='bold')\n",
    "plt.ylabel('Orders', fontsize=14, fontweight='bold')\n",
    "\n",
    "plt.show()"
   ]
  },
  {
   "cell_type": "markdown",
   "id": "f7b9c494-651a-402d-90ca-c2aca1656839",
   "metadata": {},
   "source": [
    "*From above graphs we can see that most of the orders & total sales/amount are from Uttar Pradesh, Maharashtra and Karnataka respectively*\n"
   ]
  },
  {
   "cell_type": "markdown",
   "id": "f6d4656e-e9b7-4c84-a643-c0fd076b68ce",
   "metadata": {},
   "source": [
    "### Marital Status"
   ]
  },
  {
   "cell_type": "code",
   "execution_count": null,
   "id": "a8c3e173-7c43-48e7-afa9-3dcf40332eb4",
   "metadata": {},
   "outputs": [],
   "source": [
    "ax = sns.countplot(data = df, x = 'Marital_Status')\n",
    "\n",
    "sns.set(rc={'figure.figsize':(5,4)})\n",
    "for bars in ax.containers:\n",
    "    ax.bar_label(bars)"
   ]
  },
  {
   "cell_type": "code",
   "execution_count": null,
   "id": "f173ddc1-29f3-4c35-9453-52e38077140d",
   "metadata": {},
   "outputs": [],
   "source": [
    "sales_state = df.groupby(['Marital_Status', 'Gender'], as_index=False)['Amount'].sum().sort_values(by='Amount', ascending=False)\n",
    "\n",
    "sns.set(rc={'figure.figsize':(6,5)})\n",
    "sns.barplot(data = sales_state, x = 'Marital_Status',y= 'Amount', hue='Gender')"
   ]
  },
  {
   "cell_type": "markdown",
   "id": "6ebd43a3-342f-4302-af18-91bd312ad37f",
   "metadata": {},
   "source": [
    "*From above graphs we can see that most of the buyers are married (women) and they have high purchasing power*"
   ]
  },
  {
   "cell_type": "markdown",
   "id": "c93b0d59-b82b-42af-b5a4-d5b9d0b495d7",
   "metadata": {},
   "source": [
    "### Occupation"
   ]
  },
  {
   "cell_type": "code",
   "execution_count": null,
   "id": "f3616f08-5bb8-4eda-b5bd-874d47a5b4ff",
   "metadata": {},
   "outputs": [],
   "source": [
    "sns.set(rc={'figure.figsize':(20,5)})\n",
    "ax = sns.countplot(data = df, x = 'Occupation')\n",
    "\n",
    "for bars in ax.containers:\n",
    "    ax.bar_label(bars)"
   ]
  },
  {
   "cell_type": "code",
   "execution_count": null,
   "id": "cfacbacf-eec2-4273-9de3-f0aea5082926",
   "metadata": {},
   "outputs": [],
   "source": [
    "# Group by Occupation and sum the Amount\n",
    "sales_state = df.groupby(['Occupation'], as_index=False)['Amount'].sum().sort_values(by='Amount', ascending=False)\n",
    "\n",
    "# Set figure size\n",
    "sns.set(rc={'figure.figsize': (20, 5)})\n",
    "\n",
    "# Get the correct number of unique categories for Occupation\n",
    "num_categories = df['Occupation'].nunique()\n",
    "\n",
    "# Create a dynamic color palette\n",
    "custom_colors = sns.color_palette('coolwarm', num_categories)\n",
    "\n",
    "# Create the bar plot with updated palette\n",
    "sns.barplot(data=sales_state, x='Occupation', y='Amount', hue='Occupation', palette=custom_colors, legend=False)"
   ]
  },
  {
   "cell_type": "markdown",
   "id": "fa0be164-702a-423e-a841-e7654cb87afb",
   "metadata": {},
   "source": [
    "From above graphs we can see that most of the buyers are working in IT, Healthcare and Aviation sector"
   ]
  },
  {
   "cell_type": "markdown",
   "id": "9c1be111-8ad3-40ae-b737-536cdbd25bac",
   "metadata": {},
   "source": [
    "### Prroduct Category"
   ]
  },
  {
   "cell_type": "code",
   "execution_count": null,
   "id": "201fc086-f4c6-4a56-8e07-599fde95d2ff",
   "metadata": {},
   "outputs": [],
   "source": [
    "sns.set(rc={'figure.figsize':(25,7)})\n",
    "ax = sns.countplot(data = df, x = 'Product_Category')\n",
    "\n",
    "for bars in ax.containers:\n",
    "    ax.bar_label(bars)\n"
   ]
  },
  {
   "cell_type": "code",
   "execution_count": null,
   "id": "ecdcab00-fb6c-45fa-b1e1-4f1456b07245",
   "metadata": {},
   "outputs": [],
   "source": [
    "sales_state = df.groupby(['Product_Category'], as_index=False)['Amount'].sum().sort_values(by='Amount', ascending=False).head(10)\n",
    "\n",
    "sns.set(rc={'figure.figsize':(20,5)})\n",
    "sns.barplot(data = sales_state, x = 'Product_Category',y= 'Amount',hue='Product_Category', palette=custom_colors, legend=False)"
   ]
  },
  {
   "cell_type": "markdown",
   "id": "7e7349b5-8d94-40a7-8311-3a3949d73e1c",
   "metadata": {},
   "source": [
    "*From above graphs we can see that most of the sold products are from Food, Clothing and Electronics category*"
   ]
  },
  {
   "cell_type": "code",
   "execution_count": null,
   "id": "d6e4a1e4-c45c-44c4-86d2-f6cda24a5091",
   "metadata": {},
   "outputs": [],
   "source": [
    "sales_state = df.groupby(['Product_ID'], as_index=False)['Orders'].sum().sort_values(by='Orders', ascending=False).head(10)\n",
    "\n",
    "sns.set(rc={'figure.figsize':(20,5)})\n",
    "sns.barplot(data = sales_state, x = 'Product_ID',y= 'Orders',hue='Product_ID', palette=custom_colors, legend=False)"
   ]
  },
  {
   "cell_type": "code",
   "execution_count": null,
   "id": "ca8599e5-8e06-4f1c-b5d4-88f9b32c5eaa",
   "metadata": {},
   "outputs": [],
   "source": [
    "# top 10 most sold products (same thing as above)\n",
    "\n",
    "fig1, ax1 = plt.subplots(figsize=(12,7))\n",
    "df.groupby('Product_ID')['Orders'].sum().nlargest(10).sort_values(ascending=False).plot(kind='bar')"
   ]
  },
  {
   "cell_type": "markdown",
   "id": "12d6e117-e9ca-4859-af13-02fd99a6bbac",
   "metadata": {},
   "source": [
    "### Conclusion:"
   ]
  },
  {
   "cell_type": "markdown",
   "id": "4a195ea8-0605-468b-b87a-dc448b351ec6",
   "metadata": {},
   "source": [
    "## Married women age group 26-35 yrs from UP, Maharastra and Karnataka working in IT, Healthcare and Aviation are more likely to buy products from Food, Clothing and Electronics category"
   ]
  },
  {
   "cell_type": "code",
   "execution_count": null,
   "id": "c4769e3c-b03d-4254-8fcc-d933daf5fe01",
   "metadata": {},
   "outputs": [],
   "source": []
  }
 ],
 "metadata": {
  "kernelspec": {
   "display_name": "Python 3 (ipykernel)",
   "language": "python",
   "name": "python3"
  },
  "language_info": {
   "codemirror_mode": {
    "name": "ipython",
    "version": 3
   },
   "file_extension": ".py",
   "mimetype": "text/x-python",
   "name": "python",
   "nbconvert_exporter": "python",
   "pygments_lexer": "ipython3",
   "version": "3.12.7"
  }
 },
 "nbformat": 4,
 "nbformat_minor": 5
}
